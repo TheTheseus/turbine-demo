7 . Original
# build custom model locally (user notebook will go here)
# columns = input_columns
print ( df.columns )
columns = ['drvn_p1', 'drvr_rpm']
s_df = df.loc[df['asset_id'] == "73000", :][columns]

rows = [list(r) for i,r in s_df.iterrows()]

# create a model (using IsolationForest here with default settings)
clf = IsolationForest()

# place classifier in a sklearn "pipeline"
pipeline = Pipeline( steps = [ ( "classifier", clf ) ] )

# fit data to model pipeline
pipeline.fit(rows)

s_df = df[columns]
rows = [list(r) for i,r in s_df.iterrows()]

# test model
results = pipeline.predict(rows)
s_df.loc[: ,'anomaly_score'] = results
print(s_df.head())

from collections import Counter
print(Counter(results))

######################### Better Plots of  Pressure data #####################################
# build custom model locally (user notebook will go here)
# columns = input_columns
print ( df.columns )
print ("dataframe columns")
columns = ['drvn_p1', 'drvr_rpm','asset_id', 'evt_timestamp']
s_df = df.sort_values(by='evt_timestamp',ascending=True).loc[df['asset_id'] == "73001", :][columns]
# print ( s_df['evt_timestamp'] )
print ( s_df.loc[s_df['evt_timestamp'] < "2020-03-31 21:37:04.209610"])

# Validate you are getting good data for a single asset by plotting data
import matplotlib.pyplot as plt
import matplotlib.ticker as ticker
df['datetime'] = pd.to_datetime(s_df['evt_timestamp'],
                                   format="%d.%m.%Y %H:%M:%S.%f")
print (df)


df.set_index('datetime', inplace=True)
ax = df['drvn_p1'].plot()

ticklabels = df.index.strftime('%Y-%m-%d')
ax.xaxis.set_major_formatter(ticker.FixedFormatter(ticklabels))
ax.yaxis.set_major_formatter(ticker.FormatStrFormatter('%.2f'))
plt.show()

#print ( s_df['drvn_p1'] )
#print ( s_df[0:80]['drvn_p1'] )
plt.plot(s_df.loc[s_df['evt_timestamp'] < "2020-03-31 21:37:04.209610"]['drvn_p1'], color='blue', label='drvn_p1')
print ( "Here")


#rows = [list(r) for i,r in s_df.iterrows()]

# create a model (using IsolationForest here with default settings)
#clf = IsolationForest()

# place classifier in a sklearn "pipeline"
#pipeline = Pipeline( steps = [ ( "classifier", clf ) ] )

# fit data to model pipeline
#pipeline.fit(rows)

#s_df = df[columns]
#rows = [list(r) for i,r in s_df.iterrows()]

# test model
#results = pipeline.predict(rows)
#s_df.loc[: ,'anomaly_score'] = results
#print(s_df.head())

#from collections import Counter
#print(Counter(results))



################## 46

# create plots
# note - devices 73002 73003 are normal. 73001, 73000 have more anomalies


import matplotlib.pyplot as plt
# turbine1 = df.loc[df['anomaly_score'] == 0, :].index
turbine1 = df.loc[df['asset_id'] == "73000", :]
s_df.loc[: ,'anomaly_score'] = results
print ( s_df.iloc[30860] )
print ( s_df.iloc[turbine1.index[0:800]]['drvn_p1'] )
plt.plot(s_df.iloc[turbine1.index[0:800]]['drvn_p1'], color='blue', label='drvn_t1')


#plt.plot(s_df.iloc[turbine1.index]['drvn_p1'][30860,30900], color='blue', label='drvn_t1')


#plt.plot(s_df.iloc[turbine1.index]['drvn_p1'], color='blue', label='drvn_t1')
#plt.plot(s_df.iloc[turbine1.index]['drvr_rpm'], color='green', label='drvn_p1')
#plt.plot(s_df.iloc[turbine1.index]['drvn_flow'], color='purple', label='drvn_flow')
#plt.plot(s_df.iloc[turbine1.index]['anomaly_score'] * 100, color='red', label='anomaly_score')


